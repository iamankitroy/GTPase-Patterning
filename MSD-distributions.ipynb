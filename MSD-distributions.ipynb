{
 "cells": [
  {
   "cell_type": "markdown",
   "metadata": {},
   "source": [
    "# MSD distribution\n",
    "\n",
    "This script is used to calculate the distribution of Mean Squared Displacement for Single Molecule tracks."
   ]
  },
  {
   "cell_type": "code",
   "execution_count": 182,
   "metadata": {},
   "outputs": [],
   "source": [
    "import pandas as pd\n",
    "import numpy as np\n",
    "import matplotlib.pyplot as plt\n",
    "import seaborn as sns"
   ]
  },
  {
   "cell_type": "code",
   "execution_count": 183,
   "metadata": {},
   "outputs": [],
   "source": [
    "# Get data\n",
    "def dataIN(filename):\n",
    "    return pd.read_csv(filename)"
   ]
  },
  {
   "cell_type": "code",
   "execution_count": 184,
   "metadata": {},
   "outputs": [],
   "source": [
    "# Calculate time from frames\n",
    "def calc_time(data, interval=0.022):\n",
    "    data['TIME'] = data.FRAME * interval\n",
    "    return data"
   ]
  },
  {
   "cell_type": "code",
   "execution_count": 185,
   "metadata": {},
   "outputs": [],
   "source": [
    "# Calculate lifetime for each track\n",
    "def calc_lifetime(data):\n",
    "    data[\"LIFETIME\"] = data.groupby(\"TRACK_ID\")[\"FRAME\"].transform(lambda x: x - x.min())\n",
    "    return data"
   ]
  },
  {
   "cell_type": "code",
   "execution_count": 186,
   "metadata": {},
   "outputs": [],
   "source": [
    "# Calculate MSD for each time window\n",
    "def calc_MSD(data, time_interval = 0.022):\n",
    "    # Maximum lifetime\n",
    "    max_lifetime = data.LIFETIME.max()\n",
    "    \n",
    "    # Array of step sizes from 1 to the largest lifetime\n",
    "    step_size = np.arange(1, max_lifetime)\n",
    "    \n",
    "    all_steps = np.empty(0)         # store steps where MSD was calculated\n",
    "    all_msds = np.empty(0)          # store MSD\n",
    "    all_counts = np.empty(0)        # store number of events from which MSD was calculated\n",
    "\n",
    "    # Iterate through different step sizes\n",
    "    for step in step_size:\n",
    "        # Break points of tracks with specific step size\n",
    "        breaks = np.arange(0, max_lifetime+1, step)[1:]\n",
    "        # Initiate array to store squared displacements\n",
    "        all_sq_disp = np.empty(0)\n",
    "\n",
    "        # Iterate through different break points\n",
    "        for brk in breaks:\n",
    "            # Calculate the sum of squared displacements for broken tracks\n",
    "            # Makes sure tracks fall within breakpoints and end at the breakpoint\n",
    "            sq_disp = data.loc[\n",
    "                (data.LIFETIME >= brk-step) &\n",
    "                (data.LIFETIME <= brk), :]\\\n",
    "                .groupby(\"TRACK_ID\")[[\"TRACK_ID\", \"LIFETIME\", \"SQ_DISP\"]]\\\n",
    "                .filter(lambda x: x[\"LIFETIME\"].max() == step)\\\n",
    "                .groupby(\"TRACK_ID\")[\"SQ_DISP\"]\\\n",
    "                .aggregate(lambda x: x.sum())\n",
    "            \n",
    "            # Store the sum of squared displacements for all breakpoints with the current step size\n",
    "            all_sq_disp = np.concatenate((all_sq_disp, np.array(sq_disp)), axis = 0)\n",
    "\n",
    "        # Count number of tracks in current step size\n",
    "        ncount = len(all_sq_disp)\n",
    "\n",
    "        # Continue if no tracks with current step size found\n",
    "        if ncount == 0:\n",
    "            continue\n",
    "        \n",
    "        # Calculate MSD at current step size\n",
    "        msd = all_sq_disp.mean()\n",
    "        \n",
    "        # Store step size, MSD and counts\n",
    "        all_steps = np.append(all_steps, step)\n",
    "        all_msds = np.append(all_msds, msd)\n",
    "        all_counts = np.append(all_counts, ncount)\n",
    "\n",
    "        # Show progress\n",
    "        if step%100 == 0:\n",
    "            print(f\"Step: {step:5}/{max_lifetime}, MSD: {msd:5.2f}, NCOUNT: {ncount:6}\")\n",
    "        \n",
    "    # Generate dataframe for MSD data\n",
    "    msd_data = pd.DataFrame(\n",
    "        {\n",
    "            'Step' : all_steps,\n",
    "            'Time' : all_steps * time_interval,\n",
    "            'Count' : all_counts,\n",
    "            'MSD' : all_msds\n",
    "        }\n",
    "    )\n",
    "\n",
    "    return msd_data"
   ]
  },
  {
   "cell_type": "code",
   "execution_count": 187,
   "metadata": {},
   "outputs": [],
   "source": [
    "# Plot data\n",
    "def plotData(msd_data, outname, save=True):\n",
    "\n",
    "    # Restrict x-axis to data with greater than equal to 30 counts in MSD determination\n",
    "    xlimit = round(msd_data.loc[msd_data.Count >= 30, :].Time.max(), 1)\n",
    "\n",
    "    # Plot parameters\n",
    "    plot = sns.relplot(\n",
    "        data=msd_data,\n",
    "        x=\"Time\",\n",
    "        y=\"MSD\",\n",
    "        kind=\"scatter\",\n",
    "        linewidth=0,\n",
    "        hue=\"Count\",\n",
    "        hue_norm=(0, 100)\n",
    "    )\n",
    "    plot.set_xlabels(u\"Time [s]\")\n",
    "    plot.set_ylabels(u\"Mean squared displacement [µm$^2$]\")\n",
    "    # plot.set(xlim=(0, xlimit), ylim=(0, 15))\n",
    "    plot.set(xlim=(0, 5), ylim=(0, 15))\n",
    "    plot.figure.suptitle(' '.join(outname.split('_')))\n",
    "    plot._legend.remove()\n",
    "    \n",
    "    # Save and/or show plot\n",
    "    if save:\n",
    "        outname = f'{outname}_MSDplot.png'\n",
    "        plt.show()\n",
    "        plot.savefig(f\"{outname}\", dpi=300)\n",
    "    else:\n",
    "        plt.show()"
   ]
  },
  {
   "cell_type": "code",
   "execution_count": 188,
   "metadata": {},
   "outputs": [],
   "source": [
    "# Write data\n",
    "def dataOUT(msd_data, outname):\n",
    "    outname = f'{outname}_MSD-data.csv'\n",
    "    msd_data.to_csv(outname, index = False)"
   ]
  },
  {
   "cell_type": "code",
   "execution_count": 189,
   "metadata": {},
   "outputs": [],
   "source": [
    "# Main function\n",
    "def main():\n",
    "    filename = \"1xGBD_Outside_A_stepsize-data.csv\"      # input file name\n",
    "    outname = '_'.join(filename.split('_')[:3])         # output file name prefix\n",
    "    data = dataIN(filename)                             # get data\n",
    "    data = calc_time(data)                              # calculate time\n",
    "    data = calc_lifetime(data)                          # calculate lifetime\n",
    "    msd_data = calc_MSD(data)                           # calculated MSDs\n",
    "    plotData(msd_data, outname)                         # plot data\n",
    "    dataOUT(msd_data, outname)                          # write MSD data"
   ]
  },
  {
   "cell_type": "code",
   "execution_count": 190,
   "metadata": {},
   "outputs": [
    {
     "name": "stdout",
     "output_type": "stream",
     "text": [
      "Step:   100/865, MSD:  4.39, NCOUNT:    319\n",
      "Step:   200/865, MSD:  8.76, NCOUNT:     52\n",
      "Step:   300/865, MSD: 11.61, NCOUNT:     14\n",
      "Step:   400/865, MSD: 13.18, NCOUNT:      2\n",
      "Step:   500/865, MSD: 14.02, NCOUNT:      2\n",
      "Step:   600/865, MSD: 15.61, NCOUNT:      2\n",
      "Step:   700/865, MSD: 14.25, NCOUNT:      1\n",
      "Step:   800/865, MSD: 16.76, NCOUNT:      1\n"
     ]
    },
    {
     "data": {
      "image/png": "[encoded data removed]",
      "text/plain": [
       "<Figure size 585.5x500 with 1 Axes>"
      ]
     },
     "metadata": {},
     "output_type": "display_data"
    }
   ],
   "source": [
    "# Run main\n",
    "main()"
   ]
  },
  {
   "cell_type": "markdown",
   "metadata": {},
   "source": [
    "> Ankit Roy\n",
    "\n",
    "> 25th March, 2024"
   ]
  }
 ],
 "metadata": {
  "kernelspec": {
   "display_name": "base",
   "language": "python",
   "name": "python3"
  },
  "language_info": {
   "codemirror_mode": {
    "name": "ipython",
    "version": 3
   },
   "file_extension": ".py",
   "mimetype": "text/x-python",
   "name": "python",
   "nbconvert_exporter": "python",
   "pygments_lexer": "ipython3",
   "version": "3.10.13"
  }
 },
 "nbformat": 4,
 "nbformat_minor": 2
}
